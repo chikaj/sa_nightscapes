{
 "cells": [
  {
   "cell_type": "markdown",
   "metadata": {},
   "source": [
    "## A test to convert numpy.ndarray to a sparse matrix and back again"
   ]
  },
  {
   "cell_type": "code",
   "execution_count": 189,
   "metadata": {},
   "outputs": [],
   "source": [
    "import numpy as np\n",
    "from scipy import sparse"
   ]
  },
  {
   "cell_type": "markdown",
   "metadata": {},
   "source": [
    "### 1. With a completely dense ndarray"
   ]
  },
  {
   "cell_type": "code",
   "execution_count": 190,
   "metadata": {},
   "outputs": [
    {
     "name": "stdout",
     "output_type": "stream",
     "text": [
      "[[ 0  1  2  3  4]\n",
      " [ 5  6  7  8  9]\n",
      " [10 11 12 13 14]\n",
      " [15 16 17 18 19]\n",
      " [20 21 22 23 24]]\n",
      "<class 'numpy.ndarray'>\n"
     ]
    }
   ],
   "source": [
    "x = np.arange(25).reshape(5, 5)\n",
    "x.astype(np.float64)\n",
    "print(x)\n",
    "print(type(x))"
   ]
  },
  {
   "cell_type": "code",
   "execution_count": 191,
   "metadata": {},
   "outputs": [
    {
     "data": {
      "text/plain": "<5x5 sparse matrix of type '<class 'numpy.int64'>'\n\twith 24 stored elements in Compressed Sparse Column format>"
     },
     "execution_count": 191,
     "metadata": {},
     "output_type": "execute_result"
    }
   ],
   "source": [
    "a = sparse.csc_matrix(x)\n",
    "a"
   ]
  },
  {
   "cell_type": "code",
   "execution_count": 192,
   "metadata": {},
   "outputs": [
    {
     "name": "stdout",
     "output_type": "stream",
     "text": [
      "  (1, 0)\t5\n",
      "  (2, 0)\t10\n",
      "  (3, 0)\t15\n",
      "  (4, 0)\t20\n",
      "  (0, 1)\t1\n",
      "  (1, 1)\t6\n",
      "  (2, 1)\t11\n",
      "  (3, 1)\t16\n",
      "  (4, 1)\t21\n",
      "  (0, 2)\t2\n",
      "  (1, 2)\t7\n",
      "  (2, 2)\t12\n",
      "  (3, 2)\t17\n",
      "  (4, 2)\t22\n",
      "  (0, 3)\t3\n",
      "  (1, 3)\t8\n",
      "  (2, 3)\t13\n",
      "  (3, 3)\t18\n",
      "  (4, 3)\t23\n",
      "  (0, 4)\t4\n",
      "  (1, 4)\t9\n",
      "  (2, 4)\t14\n",
      "  (3, 4)\t19\n",
      "  (4, 4)\t24\n"
     ]
    }
   ],
   "source": [
    "print(a)"
   ]
  },
  {
   "cell_type": "code",
   "execution_count": 193,
   "metadata": {},
   "outputs": [
    {
     "name": "stdout",
     "output_type": "stream",
     "text": [
      "[[ 0  1  2  3  4]\n",
      " [ 5  6  7  8  9]\n",
      " [10 11 12 13 14]\n",
      " [15 16 17 18 19]\n",
      " [20 21 22 23 24]]\n",
      "<class 'numpy.ndarray'>\n"
     ]
    }
   ],
   "source": [
    "y = a.toarray()\n",
    "print(y)\n",
    "print(type(y))"
   ]
  },
  {
   "cell_type": "code",
   "execution_count": 194,
   "metadata": {},
   "outputs": [
    {
     "data": {
      "text/plain": "array([[ True,  True,  True,  True,  True],\n       [ True,  True,  True,  True,  True],\n       [ True,  True,  True,  True,  True],\n       [ True,  True,  True,  True,  True],\n       [ True,  True,  True,  True,  True]])"
     },
     "execution_count": 194,
     "metadata": {},
     "output_type": "execute_result"
    }
   ],
   "source": [
    "x == y"
   ]
  },
  {
   "cell_type": "markdown",
   "metadata": {},
   "source": [
    "### 2. With a zero-padded ndarray"
   ]
  },
  {
   "cell_type": "code",
   "execution_count": 215,
   "metadata": {},
   "outputs": [
    {
     "name": "stdout",
     "output_type": "stream",
     "text": [
      "<class 'numpy.ndarray'>\n"
     ]
    },
    {
     "data": {
      "text/plain": "array([[ 0,  0,  0,  0,  0],\n       [ 0,  6,  7,  8,  0],\n       [ 0, 11, 12, 13,  0],\n       [ 0, 16, 17, 18,  0],\n       [ 0,  0,  0,  0,  0]])"
     },
     "execution_count": 215,
     "metadata": {},
     "output_type": "execute_result"
    }
   ],
   "source": [
    "i = x\n",
    "i[:, 0] = 0\n",
    "i[:, -1] = 0\n",
    "i[0, :] = 0\n",
    "i[-1, :] = 0\n",
    "print(type(i))\n",
    "i"
   ]
  },
  {
   "cell_type": "code",
   "execution_count": 216,
   "metadata": {},
   "outputs": [
    {
     "data": {
      "text/plain": "<5x5 sparse matrix of type '<class 'numpy.int64'>'\n\twith 9 stored elements in Compressed Sparse Column format>"
     },
     "execution_count": 216,
     "metadata": {},
     "output_type": "execute_result"
    }
   ],
   "source": [
    "b = sparse.csc_matrix(i)\n",
    "b"
   ]
  },
  {
   "cell_type": "code",
   "execution_count": 217,
   "metadata": {},
   "outputs": [
    {
     "name": "stdout",
     "output_type": "stream",
     "text": [
      "  (1, 1)\t6\n",
      "  (2, 1)\t11\n",
      "  (3, 1)\t16\n",
      "  (1, 2)\t7\n",
      "  (2, 2)\t12\n",
      "  (3, 2)\t17\n",
      "  (1, 3)\t8\n",
      "  (2, 3)\t13\n",
      "  (3, 3)\t18\n"
     ]
    }
   ],
   "source": [
    "print(b)"
   ]
  },
  {
   "cell_type": "code",
   "execution_count": 218,
   "metadata": {},
   "outputs": [
    {
     "name": "stdout",
     "output_type": "stream",
     "text": [
      "<class 'numpy.ndarray'>\n"
     ]
    },
    {
     "data": {
      "text/plain": "array([[ 0,  0,  0,  0,  0],\n       [ 0,  6,  7,  8,  0],\n       [ 0, 11, 12, 13,  0],\n       [ 0, 16, 17, 18,  0],\n       [ 0,  0,  0,  0,  0]])"
     },
     "execution_count": 218,
     "metadata": {},
     "output_type": "execute_result"
    }
   ],
   "source": [
    "j = b.toarray()\n",
    "print(type(j))\n",
    "j"
   ]
  },
  {
   "cell_type": "code",
   "execution_count": 219,
   "metadata": {},
   "outputs": [
    {
     "data": {
      "text/plain": "array([[ True,  True,  True,  True,  True],\n       [ True,  True,  True,  True,  True],\n       [ True,  True,  True,  True,  True],\n       [ True,  True,  True,  True,  True],\n       [ True,  True,  True,  True,  True]])"
     },
     "execution_count": 219,
     "metadata": {},
     "output_type": "execute_result"
    }
   ],
   "source": [
    "i == j"
   ]
  },
  {
   "cell_type": "markdown",
   "metadata": {},
   "source": [
    "### 3. With a nan-padded ndarray"
   ]
  },
  {
   "cell_type": "code",
   "execution_count": 244,
   "metadata": {},
   "outputs": [
    {
     "name": "stdout",
     "output_type": "stream",
     "text": [
      "<class 'numpy.ndarray'>\n"
     ]
    },
    {
     "data": {
      "text/plain": "array([[nan, nan, nan, nan, nan],\n       [nan,  6.,  7.,  8., nan],\n       [nan, 11., 12., 13., nan],\n       [nan, 16., 17., 18., nan],\n       [nan, nan, nan, nan, nan]])"
     },
     "execution_count": 244,
     "metadata": {},
     "output_type": "execute_result"
    }
   ],
   "source": [
    "k = x.astype(np.float64)\n",
    "k[:, 0] = np.nan\n",
    "k[:, -1] = np.nan\n",
    "k[0, :] = np.nan\n",
    "k[-1, :] = np.nan\n",
    "print(type(k))\n",
    "k"
   ]
  },
  {
   "cell_type": "code",
   "execution_count": 245,
   "metadata": {},
   "outputs": [
    {
     "data": {
      "text/plain": "array([[ 0.,  0.,  0.,  0.,  0.],\n       [ 0.,  6.,  7.,  8.,  0.],\n       [ 0., 11., 12., 13.,  0.],\n       [ 0., 16., 17., 18.,  0.],\n       [ 0.,  0.,  0.,  0.,  0.]])"
     },
     "execution_count": 245,
     "metadata": {},
     "output_type": "execute_result"
    }
   ],
   "source": [
    "k0 = k.copy()\n",
    "k0[np.isnan(k0)] = 0\n",
    "k0"
   ]
  },
  {
   "cell_type": "code",
   "execution_count": 246,
   "metadata": {},
   "outputs": [
    {
     "data": {
      "text/plain": "<5x5 sparse matrix of type '<class 'numpy.float64'>'\n\twith 9 stored elements in Compressed Sparse Column format>"
     },
     "execution_count": 246,
     "metadata": {},
     "output_type": "execute_result"
    }
   ],
   "source": [
    "c = sparse.csc_matrix(k0)\n",
    "c"
   ]
  },
  {
   "cell_type": "code",
   "execution_count": 247,
   "metadata": {},
   "outputs": [
    {
     "name": "stdout",
     "output_type": "stream",
     "text": [
      "  (1, 1)\t6.0\n",
      "  (2, 1)\t11.0\n",
      "  (3, 1)\t16.0\n",
      "  (1, 2)\t7.0\n",
      "  (2, 2)\t12.0\n",
      "  (3, 2)\t17.0\n",
      "  (1, 3)\t8.0\n",
      "  (2, 3)\t13.0\n",
      "  (3, 3)\t18.0\n"
     ]
    }
   ],
   "source": [
    "print(c)"
   ]
  },
  {
   "cell_type": "code",
   "execution_count": 248,
   "metadata": {},
   "outputs": [
    {
     "name": "stdout",
     "output_type": "stream",
     "text": [
      "<class 'numpy.ndarray'>\n"
     ]
    },
    {
     "data": {
      "text/plain": "array([[ 0.,  0.,  0.,  0.,  0.],\n       [ 0.,  6.,  7.,  8.,  0.],\n       [ 0., 11., 12., 13.,  0.],\n       [ 0., 16., 17., 18.,  0.],\n       [ 0.,  0.,  0.,  0.,  0.]])"
     },
     "execution_count": 248,
     "metadata": {},
     "output_type": "execute_result"
    }
   ],
   "source": [
    "l = b.toarray().astype(np.float64)\n",
    "print(type(l))\n",
    "l"
   ]
  },
  {
   "cell_type": "code",
   "execution_count": 249,
   "metadata": {},
   "outputs": [
    {
     "data": {
      "text/plain": "array([[nan, nan, nan, nan, nan],\n       [nan,  6.,  7.,  8., nan],\n       [nan, 11., 12., 13., nan],\n       [nan, 16., 17., 18., nan],\n       [nan, nan, nan, nan, nan]])"
     },
     "execution_count": 249,
     "metadata": {},
     "output_type": "execute_result"
    }
   ],
   "source": [
    "l0 = l.copy()\n",
    "l0[l0 == 0] = np.nan\n",
    "l0"
   ]
  },
  {
   "cell_type": "code",
   "execution_count": 261,
   "metadata": {},
   "outputs": [
    {
     "name": "stdout",
     "output_type": "stream",
     "text": [
      "[[nan nan nan nan nan]\n",
      " [nan  6.  7.  8. nan]\n",
      " [nan 11. 12. 13. nan]\n",
      " [nan 16. 17. 18. nan]\n",
      " [nan nan nan nan nan]]\n",
      "\n",
      "[[nan nan nan nan nan]\n",
      " [nan  6.  7.  8. nan]\n",
      " [nan 11. 12. 13. nan]\n",
      " [nan 16. 17. 18. nan]\n",
      " [nan nan nan nan nan]]\n"
     ]
    },
    {
     "data": {
      "text/plain": "array([[False, False, False, False, False],\n       [False,  True,  True,  True, False],\n       [False,  True,  True,  True, False],\n       [False,  True,  True,  True, False],\n       [False, False, False, False, False]])"
     },
     "execution_count": 261,
     "metadata": {},
     "output_type": "execute_result"
    }
   ],
   "source": [
    "print(k,  end='\\n\\n')\n",
    "print(l0)\n",
    "k == l0 # has False padding because np.nan DOES NOT EQUAL np.nan, see above..."
   ]
  },
  {
   "cell_type": "markdown",
   "metadata": {},
   "source": [
    "#### Learn from below"
   ]
  },
  {
   "cell_type": "code",
   "execution_count": 207,
   "metadata": {},
   "outputs": [
    {
     "data": {
      "text/plain": "<5x5 sparse matrix of type '<class 'numpy.float64'>'\n\twith 25 stored elements in Compressed Sparse Column format>"
     },
     "execution_count": 207,
     "metadata": {},
     "output_type": "execute_result"
    }
   ],
   "source": [
    "c = sparse.csc_matrix(k)\n",
    "c"
   ]
  },
  {
   "cell_type": "code",
   "execution_count": 208,
   "metadata": {},
   "outputs": [
    {
     "name": "stdout",
     "output_type": "stream",
     "text": [
      "  (0, 0)\tnan\n",
      "  (1, 0)\tnan\n",
      "  (2, 0)\tnan\n",
      "  (3, 0)\tnan\n",
      "  (4, 0)\tnan\n",
      "  (0, 1)\tnan\n",
      "  (1, 1)\t6.0\n",
      "  (2, 1)\t11.0\n",
      "  (3, 1)\t16.0\n",
      "  (4, 1)\tnan\n",
      "  (0, 2)\tnan\n",
      "  (1, 2)\t7.0\n",
      "  (2, 2)\t12.0\n",
      "  (3, 2)\t17.0\n",
      "  (4, 2)\tnan\n",
      "  (0, 3)\tnan\n",
      "  (1, 3)\t8.0\n",
      "  (2, 3)\t13.0\n",
      "  (3, 3)\t18.0\n",
      "  (4, 3)\tnan\n",
      "  (0, 4)\tnan\n",
      "  (1, 4)\tnan\n",
      "  (2, 4)\tnan\n",
      "  (3, 4)\tnan\n",
      "  (4, 4)\tnan\n"
     ]
    }
   ],
   "source": [
    "print(c)"
   ]
  },
  {
   "cell_type": "markdown",
   "metadata": {},
   "source": [
    "##### A little aside because I want the nan's gone...not still in the CSC matrix!"
   ]
  },
  {
   "cell_type": "markdown",
   "metadata": {},
   "source": [
    "###### Doesn't create a view"
   ]
  },
  {
   "cell_type": "code",
   "execution_count": 209,
   "metadata": {},
   "outputs": [
    {
     "name": "stdout",
     "output_type": "stream",
     "text": [
      "[ 6.  7.  8. 11. 12. 13. 16. 17. 18.]\n",
      "<class 'numpy.ndarray'>\n",
      "None\n",
      "  (0, 0)\t6.0\n",
      "  (0, 1)\t7.0\n",
      "  (0, 2)\t8.0\n",
      "  (0, 3)\t11.0\n",
      "  (0, 4)\t12.0\n",
      "  (0, 5)\t13.0\n",
      "  (0, 6)\t16.0\n",
      "  (0, 7)\t17.0\n",
      "  (0, 8)\t18.0\n"
     ]
    }
   ],
   "source": [
    "k2 = k[~np.isnan(k)]\n",
    "print(k2)\n",
    "print(type(k2))\n",
    "print(k2.base)\n",
    "sparse.csc_matrix(k2)\n",
    "print(sparse.csc_matrix(k2))"
   ]
  },
  {
   "cell_type": "code",
   "execution_count": 210,
   "metadata": {},
   "outputs": [
    {
     "name": "stdout",
     "output_type": "stream",
     "text": [
      "[ 6.  7.  8. 11. 12. 13. 16. 17. 18.]\n",
      "[ 6.  7.  8. 11. 12. 13. 16. 17. 18.]\n",
      "  (0, 0)\t6.0\n",
      "  (0, 1)\t7.0\n",
      "  (0, 2)\t8.0\n",
      "  (0, 3)\t11.0\n",
      "  (0, 4)\t12.0\n",
      "  (0, 5)\t13.0\n",
      "  (0, 6)\t16.0\n",
      "  (0, 7)\t17.0\n",
      "  (0, 8)\t18.0\n"
     ]
    }
   ],
   "source": [
    "k3 = k[k < 1000000000].view()\n",
    "print(k3)\n",
    "k3\n",
    "print(k3.base)\n",
    "sparse.csc_matrix(k3)\n",
    "print(sparse.csc_matrix(k3))"
   ]
  },
  {
   "cell_type": "code",
   "execution_count": 211,
   "metadata": {},
   "outputs": [
    {
     "name": "stdout",
     "output_type": "stream",
     "text": [
      "[ 8. 11. 12. 13. 16. 17. 18.]\n",
      "[ 8. 11. 12. 13. 16. 17. 18.]\n",
      "  (0, 0)\t8.0\n",
      "  (0, 1)\t11.0\n",
      "  (0, 2)\t12.0\n",
      "  (0, 3)\t13.0\n",
      "  (0, 4)\t16.0\n",
      "  (0, 5)\t17.0\n",
      "  (0, 6)\t18.0\n"
     ]
    }
   ],
   "source": [
    "k4 = k2[k2 > 7].view()\n",
    "print(k4)\n",
    "print(k4.base)\n",
    "sparse.csc_matrix(k4)\n",
    "print(sparse.csc_matrix(k4))"
   ]
  },
  {
   "cell_type": "code",
   "execution_count": 212,
   "metadata": {},
   "outputs": [
    {
     "name": "stdout",
     "output_type": "stream",
     "text": [
      "[[-- -- -- -- --]\n",
      " [-- 6.0 7.0 8.0 --]\n",
      " [-- 11.0 12.0 13.0 --]\n",
      " [-- 16.0 17.0 18.0 --]\n",
      " [-- -- -- -- --]]\n",
      "[[nan nan nan nan nan]\n",
      " [nan  6.  7.  8. nan]\n",
      " [nan 11. 12. 13. nan]\n",
      " [nan 16. 17. 18. nan]\n",
      " [nan nan nan nan nan]]\n",
      "  (0, 0)\tnan\n",
      "  (1, 0)\tnan\n",
      "  (2, 0)\tnan\n",
      "  (3, 0)\tnan\n",
      "  (4, 0)\tnan\n",
      "  (0, 1)\tnan\n",
      "  (1, 1)\t6.0\n",
      "  (2, 1)\t11.0\n",
      "  (3, 1)\t16.0\n",
      "  (4, 1)\tnan\n",
      "  (0, 2)\tnan\n",
      "  (1, 2)\t7.0\n",
      "  (2, 2)\t12.0\n",
      "  (3, 2)\t17.0\n",
      "  (4, 2)\tnan\n",
      "  (0, 3)\tnan\n",
      "  (1, 3)\t8.0\n",
      "  (2, 3)\t13.0\n",
      "  (3, 3)\t18.0\n",
      "  (4, 3)\tnan\n",
      "  (0, 4)\tnan\n",
      "  (1, 4)\tnan\n",
      "  (2, 4)\tnan\n",
      "  (3, 4)\tnan\n",
      "  (4, 4)\tnan\n"
     ]
    }
   ],
   "source": [
    "k4 = np.ma.masked_invalid(k, copy=False)\n",
    "print(k4)\n",
    "print(k4.base)\n",
    "sparse.csc_matrix(k4)\n",
    "print(sparse.csc_matrix(k4))"
   ]
  },
  {
   "cell_type": "markdown",
   "metadata": {},
   "source": [
    "#### Done with my aside...but disappointed!"
   ]
  },
  {
   "cell_type": "code",
   "execution_count": 213,
   "metadata": {},
   "outputs": [
    {
     "name": "stdout",
     "output_type": "stream",
     "text": [
      "<class 'numpy.ndarray'>\n"
     ]
    },
    {
     "data": {
      "text/plain": "array([[nan, nan, nan, nan, nan],\n       [nan,  6.,  7.,  8., nan],\n       [nan, 11., 12., 13., nan],\n       [nan, 16., 17., 18., nan],\n       [nan, nan, nan, nan, nan]])"
     },
     "execution_count": 213,
     "metadata": {},
     "output_type": "execute_result"
    }
   ],
   "source": [
    "k = c.toarray()\n",
    "print(type(k))\n",
    "k"
   ]
  },
  {
   "cell_type": "code",
   "execution_count": null,
   "metadata": {},
   "outputs": [],
   "source": []
  }
 ],
 "metadata": {
  "interpreter": {
   "hash": "9489f0210e9a1748d815e5b9d27cfee8fbbb9aeebec4e79623de67a1decad011"
  },
  "kernelspec": {
   "display_name": "Python 3.9.1 64-bit ('bradj_nightscapes': conda)",
   "name": "python3"
  },
  "language_info": {
   "codemirror_mode": {
    "name": "ipython",
    "version": 3
   },
   "file_extension": ".py",
   "mimetype": "text/x-python",
   "name": "python",
   "nbconvert_exporter": "python",
   "pygments_lexer": "ipython3",
   "version": "3.9.1"
  },
  "orig_nbformat": 2
 },
 "nbformat": 4,
 "nbformat_minor": 2
}